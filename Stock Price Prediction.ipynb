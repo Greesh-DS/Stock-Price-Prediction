{
 "cells": [
  {
   "cell_type": "markdown",
   "id": "f8e930d7",
   "metadata": {},
   "source": [
    "# Stock Price Prediction Using Linear Regression"
   ]
  },
  {
   "cell_type": "markdown",
   "id": "ba31f1be",
   "metadata": {},
   "source": [
    "A Stock market is a public market where we can buy and sell shares for publicly listed companies. The stock exchange is the mediator that allows the buying and selling of shares."
   ]
  },
  {
   "cell_type": "markdown",
   "id": "382a34e6",
   "metadata": {},
   "source": [
    "### Stock Price Prediction"
   ]
  },
  {
   "cell_type": "markdown",
   "id": "26036f09",
   "metadata": {},
   "source": [
    "Stock Price Prediction using the Linear Regression helps in discovering the future value of company stock and other financial assets trade on an exchange. The entire idea of predicting stock prices is to gain significant profits."
   ]
  },
  {
   "cell_type": "code",
   "execution_count": 1,
   "id": "3588521d",
   "metadata": {},
   "outputs": [],
   "source": [
    "import pandas as pd\n",
    "import numpy as np\n",
    "\n",
    "from datetime import datetime\n",
    "\n",
    "import matplotlib.pyplot as plt\n",
    "%matplotlib inline\n",
    "\n",
    "from sklearn.model_selection import train_test_split\n",
    "from sklearn.linear_model import LinearRegression\n",
    "from sklearn import metrics"
   ]
  },
  {
   "cell_type": "markdown",
   "id": "67b0bc01",
   "metadata": {},
   "source": [
    "The dataset is stored in csv format.\n",
    "The columns of the dataset are:\n",
    "1. Date      - The date of the record\n",
    "2. Open      - The opening price of the day (when trading starts).\n",
    "3. High      - The highest trade price during the day.\n",
    "4. Low       - The lowest trade price during the day.\n",
    "5. Close     - The closing price for the day (when trading is finished).\n",
    "6. Adj Close - The daily closing price, adjusted retroactively to include any                  coporate actions.\n",
    "7. Volume    - The number of shares traded."
   ]
  },
  {
   "cell_type": "markdown",
   "id": "a643df19",
   "metadata": {},
   "source": [
    "### Import the dataset"
   ]
  },
  {
   "cell_type": "code",
   "execution_count": 2,
   "id": "5ee29c7f",
   "metadata": {},
   "outputs": [],
   "source": [
    "df = pd.read_csv('C:/Users/grees/PycharmProjects/pythonProject_1/Stock_Price_data_set.csv')"
   ]
  },
  {
   "cell_type": "code",
   "execution_count": 3,
   "id": "0cb6b372",
   "metadata": {},
   "outputs": [
    {
     "data": {
      "text/html": [
       "<div>\n",
       "<style scoped>\n",
       "    .dataframe tbody tr th:only-of-type {\n",
       "        vertical-align: middle;\n",
       "    }\n",
       "\n",
       "    .dataframe tbody tr th {\n",
       "        vertical-align: top;\n",
       "    }\n",
       "\n",
       "    .dataframe thead th {\n",
       "        text-align: right;\n",
       "    }\n",
       "</style>\n",
       "<table border=\"1\" class=\"dataframe\">\n",
       "  <thead>\n",
       "    <tr style=\"text-align: right;\">\n",
       "      <th></th>\n",
       "      <th>Date</th>\n",
       "      <th>Open</th>\n",
       "      <th>High</th>\n",
       "      <th>Low</th>\n",
       "      <th>Close</th>\n",
       "      <th>Adj Close</th>\n",
       "      <th>Volume</th>\n",
       "    </tr>\n",
       "  </thead>\n",
       "  <tbody>\n",
       "    <tr>\n",
       "      <th>0</th>\n",
       "      <td>2018-02-05</td>\n",
       "      <td>262.000000</td>\n",
       "      <td>267.899994</td>\n",
       "      <td>250.029999</td>\n",
       "      <td>254.259995</td>\n",
       "      <td>254.259995</td>\n",
       "      <td>11896100</td>\n",
       "    </tr>\n",
       "    <tr>\n",
       "      <th>1</th>\n",
       "      <td>2018-02-06</td>\n",
       "      <td>247.699997</td>\n",
       "      <td>266.700012</td>\n",
       "      <td>245.000000</td>\n",
       "      <td>265.720001</td>\n",
       "      <td>265.720001</td>\n",
       "      <td>12595800</td>\n",
       "    </tr>\n",
       "    <tr>\n",
       "      <th>2</th>\n",
       "      <td>2018-02-07</td>\n",
       "      <td>266.579987</td>\n",
       "      <td>272.450012</td>\n",
       "      <td>264.329987</td>\n",
       "      <td>264.559998</td>\n",
       "      <td>264.559998</td>\n",
       "      <td>8981500</td>\n",
       "    </tr>\n",
       "    <tr>\n",
       "      <th>3</th>\n",
       "      <td>2018-02-08</td>\n",
       "      <td>267.079987</td>\n",
       "      <td>267.619995</td>\n",
       "      <td>250.000000</td>\n",
       "      <td>250.100006</td>\n",
       "      <td>250.100006</td>\n",
       "      <td>9306700</td>\n",
       "    </tr>\n",
       "    <tr>\n",
       "      <th>4</th>\n",
       "      <td>2018-02-09</td>\n",
       "      <td>253.850006</td>\n",
       "      <td>255.800003</td>\n",
       "      <td>236.110001</td>\n",
       "      <td>249.470001</td>\n",
       "      <td>249.470001</td>\n",
       "      <td>16906900</td>\n",
       "    </tr>\n",
       "  </tbody>\n",
       "</table>\n",
       "</div>"
      ],
      "text/plain": [
       "         Date        Open        High         Low       Close   Adj Close  \\\n",
       "0  2018-02-05  262.000000  267.899994  250.029999  254.259995  254.259995   \n",
       "1  2018-02-06  247.699997  266.700012  245.000000  265.720001  265.720001   \n",
       "2  2018-02-07  266.579987  272.450012  264.329987  264.559998  264.559998   \n",
       "3  2018-02-08  267.079987  267.619995  250.000000  250.100006  250.100006   \n",
       "4  2018-02-09  253.850006  255.800003  236.110001  249.470001  249.470001   \n",
       "\n",
       "     Volume  \n",
       "0  11896100  \n",
       "1  12595800  \n",
       "2   8981500  \n",
       "3   9306700  \n",
       "4  16906900  "
      ]
     },
     "execution_count": 3,
     "metadata": {},
     "output_type": "execute_result"
    }
   ],
   "source": [
    "df.head()"
   ]
  },
  {
   "cell_type": "code",
   "execution_count": 4,
   "id": "06f9f19f",
   "metadata": {},
   "outputs": [
    {
     "name": "stdout",
     "output_type": "stream",
     "text": [
      "<class 'pandas.core.frame.DataFrame'>\n",
      "RangeIndex: 1009 entries, 0 to 1008\n",
      "Data columns (total 7 columns):\n",
      " #   Column     Non-Null Count  Dtype  \n",
      "---  ------     --------------  -----  \n",
      " 0   Date       1009 non-null   object \n",
      " 1   Open       1009 non-null   float64\n",
      " 2   High       1009 non-null   float64\n",
      " 3   Low        1009 non-null   float64\n",
      " 4   Close      1009 non-null   float64\n",
      " 5   Adj Close  1009 non-null   float64\n",
      " 6   Volume     1009 non-null   int64  \n",
      "dtypes: float64(5), int64(1), object(1)\n",
      "memory usage: 55.3+ KB\n"
     ]
    }
   ],
   "source": [
    "df.info()"
   ]
  },
  {
   "cell_type": "markdown",
   "id": "17e01755",
   "metadata": {},
   "source": [
    "#### Convert the Date column in datetime format "
   ]
  },
  {
   "cell_type": "code",
   "execution_count": 5,
   "id": "8346e312",
   "metadata": {},
   "outputs": [
    {
     "data": {
      "text/html": [
       "<div>\n",
       "<style scoped>\n",
       "    .dataframe tbody tr th:only-of-type {\n",
       "        vertical-align: middle;\n",
       "    }\n",
       "\n",
       "    .dataframe tbody tr th {\n",
       "        vertical-align: top;\n",
       "    }\n",
       "\n",
       "    .dataframe thead th {\n",
       "        text-align: right;\n",
       "    }\n",
       "</style>\n",
       "<table border=\"1\" class=\"dataframe\">\n",
       "  <thead>\n",
       "    <tr style=\"text-align: right;\">\n",
       "      <th></th>\n",
       "      <th>Open</th>\n",
       "      <th>High</th>\n",
       "      <th>Low</th>\n",
       "      <th>Close</th>\n",
       "      <th>Adj Close</th>\n",
       "      <th>Volume</th>\n",
       "    </tr>\n",
       "  </thead>\n",
       "  <tbody>\n",
       "    <tr>\n",
       "      <th>count</th>\n",
       "      <td>1009.000000</td>\n",
       "      <td>1009.000000</td>\n",
       "      <td>1009.000000</td>\n",
       "      <td>1009.000000</td>\n",
       "      <td>1009.000000</td>\n",
       "      <td>1.009000e+03</td>\n",
       "    </tr>\n",
       "    <tr>\n",
       "      <th>mean</th>\n",
       "      <td>419.059673</td>\n",
       "      <td>425.320703</td>\n",
       "      <td>412.374044</td>\n",
       "      <td>419.000733</td>\n",
       "      <td>419.000733</td>\n",
       "      <td>7.570685e+06</td>\n",
       "    </tr>\n",
       "    <tr>\n",
       "      <th>std</th>\n",
       "      <td>108.537532</td>\n",
       "      <td>109.262960</td>\n",
       "      <td>107.555867</td>\n",
       "      <td>108.289999</td>\n",
       "      <td>108.289999</td>\n",
       "      <td>5.465535e+06</td>\n",
       "    </tr>\n",
       "    <tr>\n",
       "      <th>min</th>\n",
       "      <td>233.919998</td>\n",
       "      <td>250.649994</td>\n",
       "      <td>231.229996</td>\n",
       "      <td>233.880005</td>\n",
       "      <td>233.880005</td>\n",
       "      <td>1.144000e+06</td>\n",
       "    </tr>\n",
       "    <tr>\n",
       "      <th>25%</th>\n",
       "      <td>331.489990</td>\n",
       "      <td>336.299988</td>\n",
       "      <td>326.000000</td>\n",
       "      <td>331.619995</td>\n",
       "      <td>331.619995</td>\n",
       "      <td>4.091900e+06</td>\n",
       "    </tr>\n",
       "    <tr>\n",
       "      <th>50%</th>\n",
       "      <td>377.769989</td>\n",
       "      <td>383.010010</td>\n",
       "      <td>370.880005</td>\n",
       "      <td>378.670013</td>\n",
       "      <td>378.670013</td>\n",
       "      <td>5.934500e+06</td>\n",
       "    </tr>\n",
       "    <tr>\n",
       "      <th>75%</th>\n",
       "      <td>509.130005</td>\n",
       "      <td>515.630005</td>\n",
       "      <td>502.529999</td>\n",
       "      <td>509.079987</td>\n",
       "      <td>509.079987</td>\n",
       "      <td>9.322400e+06</td>\n",
       "    </tr>\n",
       "    <tr>\n",
       "      <th>max</th>\n",
       "      <td>692.349976</td>\n",
       "      <td>700.989990</td>\n",
       "      <td>686.090027</td>\n",
       "      <td>691.690002</td>\n",
       "      <td>691.690002</td>\n",
       "      <td>5.890430e+07</td>\n",
       "    </tr>\n",
       "  </tbody>\n",
       "</table>\n",
       "</div>"
      ],
      "text/plain": [
       "              Open         High          Low        Close    Adj Close  \\\n",
       "count  1009.000000  1009.000000  1009.000000  1009.000000  1009.000000   \n",
       "mean    419.059673   425.320703   412.374044   419.000733   419.000733   \n",
       "std     108.537532   109.262960   107.555867   108.289999   108.289999   \n",
       "min     233.919998   250.649994   231.229996   233.880005   233.880005   \n",
       "25%     331.489990   336.299988   326.000000   331.619995   331.619995   \n",
       "50%     377.769989   383.010010   370.880005   378.670013   378.670013   \n",
       "75%     509.130005   515.630005   502.529999   509.079987   509.079987   \n",
       "max     692.349976   700.989990   686.090027   691.690002   691.690002   \n",
       "\n",
       "             Volume  \n",
       "count  1.009000e+03  \n",
       "mean   7.570685e+06  \n",
       "std    5.465535e+06  \n",
       "min    1.144000e+06  \n",
       "25%    4.091900e+06  \n",
       "50%    5.934500e+06  \n",
       "75%    9.322400e+06  \n",
       "max    5.890430e+07  "
      ]
     },
     "execution_count": 5,
     "metadata": {},
     "output_type": "execute_result"
    }
   ],
   "source": [
    "df.describe()"
   ]
  },
  {
   "cell_type": "code",
   "execution_count": 6,
   "id": "2da1c287",
   "metadata": {},
   "outputs": [
    {
     "data": {
      "text/plain": [
       "Date         0\n",
       "Open         0\n",
       "High         0\n",
       "Low          0\n",
       "Close        0\n",
       "Adj Close    0\n",
       "Volume       0\n",
       "dtype: int64"
      ]
     },
     "execution_count": 6,
     "metadata": {},
     "output_type": "execute_result"
    }
   ],
   "source": [
    "df.isnull().sum()"
   ]
  },
  {
   "cell_type": "code",
   "execution_count": 7,
   "id": "962a596e",
   "metadata": {},
   "outputs": [
    {
     "data": {
      "text/plain": [
       "(1009, 7)"
      ]
     },
     "execution_count": 7,
     "metadata": {},
     "output_type": "execute_result"
    }
   ],
   "source": [
    "df.shape"
   ]
  },
  {
   "cell_type": "markdown",
   "id": "cbf56310",
   "metadata": {},
   "source": [
    "#### Correlation between the data"
   ]
  },
  {
   "cell_type": "code",
   "execution_count": 8,
   "id": "dee9527a",
   "metadata": {},
   "outputs": [
    {
     "data": {
      "image/png": "[encoded data removed]",
      "text/plain": [
       "<Figure size 1224x576 with 2 Axes>"
      ]
     },
     "metadata": {
      "needs_background": "light"
     },
     "output_type": "display_data"
    }
   ],
   "source": [
    "import seaborn as sns\n",
    "plt.figure(1 , figsize = (17 , 8))\n",
    "cor = sns.heatmap(df.corr(), annot = True)"
   ]
  },
  {
   "cell_type": "markdown",
   "id": "def8ce2a",
   "metadata": {},
   "source": [
    "# "
   ]
  },
  {
   "cell_type": "markdown",
   "id": "d952a094",
   "metadata": {},
   "source": [
    "## Linear Regression"
   ]
  },
  {
   "cell_type": "markdown",
   "id": "6c536bec",
   "metadata": {},
   "source": [
    "The dataset contains independent variable(x) and the depenedent variable(y), which is used to predict the stock price. To fit a line to the data points, which then represents an estimates relationship between x and y, we use a simple linear regression method.\n",
    "\n",
    "The best fit line can be described with:\n",
    "                                y = β0 + β1x\n",
    "where\n",
    "1. y is the predicetd value of the dependent variable.\n",
    "2. β0 is the y-intercept.\n",
    "3. β1 is the slope.\n",
    "4. x is the value of teh independent variable.\n",
    "\n",
    "The goal is to find such coefficients β0 and β1 that the Sum of Squared errors, which represents the difference between each point in the dataset with its corresponding predicted value outputed by the model.\n"
   ]
  },
  {
   "cell_type": "markdown",
   "id": "36ebb80f",
   "metadata": {},
   "source": [
    "### Training a Linear regression model"
   ]
  },
  {
   "cell_type": "markdown",
   "id": "12e169b2",
   "metadata": {},
   "source": [
    "#### Train Test Split"
   ]
  },
  {
   "cell_type": "code",
   "execution_count": 9,
   "id": "0edb0487",
   "metadata": {},
   "outputs": [],
   "source": [
    "x = df[['High', 'Low', 'Open', 'Volume']].values\n",
    "y = df['Close'].values"
   ]
  },
  {
   "cell_type": "code",
   "execution_count": 10,
   "id": "031c3bfd",
   "metadata": {},
   "outputs": [],
   "source": [
    "x_train, x_test, y_train, y_test = train_test_split(x, y, test_size = 0.2, random_state = 0)"
   ]
  },
  {
   "cell_type": "markdown",
   "id": "293b369e",
   "metadata": {},
   "source": [
    "### Linear Regression Model"
   ]
  },
  {
   "cell_type": "code",
   "execution_count": 11,
   "id": "0652a713",
   "metadata": {},
   "outputs": [],
   "source": [
    "model = LinearRegression()"
   ]
  },
  {
   "cell_type": "markdown",
   "id": "1b7a1fed",
   "metadata": {},
   "source": [
    "#### Fitting the data in the model"
   ]
  },
  {
   "cell_type": "code",
   "execution_count": 12,
   "id": "bc3eefd3",
   "metadata": {},
   "outputs": [
    {
     "data": {
      "text/plain": [
       "LinearRegression()"
      ]
     },
     "execution_count": 12,
     "metadata": {},
     "output_type": "execute_result"
    }
   ],
   "source": [
    "model.fit(x_train, y_train)"
   ]
  },
  {
   "cell_type": "markdown",
   "id": "1f9be6c4",
   "metadata": {},
   "source": [
    "### Model Evaluation"
   ]
  },
  {
   "cell_type": "code",
   "execution_count": 13,
   "id": "30e7f6bd",
   "metadata": {},
   "outputs": [
    {
     "name": "stdout",
     "output_type": "stream",
     "text": [
      "Slope:  [ 7.52637059e-01  8.57461003e-01 -6.08525352e-01  9.16527846e-08]\n"
     ]
    }
   ],
   "source": [
    "print('Slope: ',model.coef_)"
   ]
  },
  {
   "cell_type": "code",
   "execution_count": 14,
   "id": "49562923",
   "metadata": {},
   "outputs": [
    {
     "name": "stdout",
     "output_type": "stream",
     "text": [
      "Intercept:  -0.4790625251108054\n"
     ]
    }
   ],
   "source": [
    "print('Intercept: ',model.intercept_)"
   ]
  },
  {
   "cell_type": "code",
   "execution_count": 15,
   "id": "829e1834",
   "metadata": {},
   "outputs": [],
   "source": [
    "predictor = model.predict(x_test)"
   ]
  },
  {
   "cell_type": "code",
   "execution_count": 16,
   "id": "92070dd6",
   "metadata": {},
   "outputs": [
    {
     "name": "stdout",
     "output_type": "stream",
     "text": [
      "[553.9710123  379.75715499 360.31052939 283.77600754 260.12841761\n",
      " 434.75951257 260.74990787 518.66873943 315.48347691 345.48489762\n",
      " 520.05031298 319.57645542 492.61437106 298.45577973 509.20270074\n",
      " 499.14347163 290.73182569 550.55425666 338.1050594  268.88774901\n",
      " 338.98198038 293.36742057 461.44827732 361.95950034 288.38667137\n",
      " 502.66802929 500.35576967 295.64490973 353.29496368 369.09476262\n",
      " 280.44095715 542.32936631 317.56873022 539.36107029 309.9250409\n",
      " 519.5780388  344.81937045 367.38697797 512.14902109 633.15564047\n",
      " 483.94701584 298.20399113 298.66713838 265.54380772 518.05906843\n",
      " 292.73396801 297.48202484 381.96007664 357.34378049 408.02376354\n",
      " 367.23809342 601.11033304 481.83052369 515.0560907  368.23912408\n",
      " 418.10837009 376.20960154 356.89297158 379.6300562  357.62789099\n",
      " 291.36418889 499.92180647 491.86625613 413.70317551 328.2744003\n",
      " 502.62529906 505.68233846 352.21466919 323.58857255 341.1969402\n",
      " 656.8616296  353.12697402 265.0054111  266.65276056 435.13208372\n",
      " 545.96035895 351.81494955 300.31723335 583.41330028 364.37742081\n",
      " 502.25024636 508.91691593 524.5227945  648.87375332 360.09970617\n",
      " 337.22252911 391.92594425 301.06556777 357.53702498 520.22503812\n",
      " 516.92617594 309.55885828 364.34544229 486.24955372 292.49911981\n",
      " 510.90384863 363.92662501 540.30546627 330.72413516 436.50740659\n",
      " 541.03452706 553.04923545 309.51614223 550.2256866  447.79472598\n",
      " 387.50436686 433.77089787 356.42044356 349.53471588 480.88729486\n",
      " 330.62514038 331.80058015 502.09674158 361.81472834 513.7995509\n",
      " 527.49035709 487.82933517 489.09759651 533.58181192 385.64463167\n",
      " 412.17825997 525.50366268 484.92444581 536.91216543 340.80216828\n",
      " 348.28118264 363.57508603 530.06130336 545.38149508 620.20269993\n",
      " 315.21327602 262.95758289 565.41585636 502.33387729 342.44031145\n",
      " 512.34422101 364.47232658 575.10030793 500.65233584 489.56683149\n",
      " 310.23954627 278.25983082 276.78398101 337.09325349 485.40574475\n",
      " 394.38892348 450.52322189 344.80150116 610.95975501 593.06854935\n",
      " 493.19654885 352.87038363 590.20618529 306.79187637 312.93860164\n",
      " 309.17714205 318.12478539 505.81115271 558.78959526 636.4557871\n",
      " 353.38474006 607.87899893 448.07288065 492.67911918 531.53582333\n",
      " 551.47252825 420.01945851 663.19652089 504.25769347 510.78923268\n",
      " 695.77539971 344.87842578 370.82951665 500.42804993 419.4051801\n",
      " 354.56018113 358.96624558 650.01833819 372.4412704  329.73367324\n",
      " 557.45705079 606.91107508 338.76487664 363.8097937  271.84062218\n",
      " 373.73817226 524.25469709 324.26302469 492.58435616 357.02309259\n",
      " 362.29916483 340.24320536 524.1830517  383.27001724 367.12583944\n",
      " 419.79614319 582.45760585 507.47618528 314.48052633 255.42328197\n",
      " 306.91336089 403.1450914 ]\n"
     ]
    }
   ],
   "source": [
    "print(predictor)"
   ]
  },
  {
   "cell_type": "code",
   "execution_count": 17,
   "id": "3a798cde",
   "metadata": {},
   "outputs": [],
   "source": [
    "dframe = pd.DataFrame({'Actual':y_test.flatten(), 'Predicted':predictor.flatten()})"
   ]
  },
  {
   "cell_type": "code",
   "execution_count": 18,
   "id": "dc7996dd",
   "metadata": {},
   "outputs": [
    {
     "data": {
      "text/html": [
       "<div>\n",
       "<style scoped>\n",
       "    .dataframe tbody tr th:only-of-type {\n",
       "        vertical-align: middle;\n",
       "    }\n",
       "\n",
       "    .dataframe tbody tr th {\n",
       "        vertical-align: top;\n",
       "    }\n",
       "\n",
       "    .dataframe thead th {\n",
       "        text-align: right;\n",
       "    }\n",
       "</style>\n",
       "<table border=\"1\" class=\"dataframe\">\n",
       "  <thead>\n",
       "    <tr style=\"text-align: right;\">\n",
       "      <th></th>\n",
       "      <th>Actual</th>\n",
       "      <th>Predicted</th>\n",
       "    </tr>\n",
       "  </thead>\n",
       "  <tbody>\n",
       "    <tr>\n",
       "      <th>0</th>\n",
       "      <td>553.729980</td>\n",
       "      <td>553.971012</td>\n",
       "    </tr>\n",
       "    <tr>\n",
       "      <th>1</th>\n",
       "      <td>379.059998</td>\n",
       "      <td>379.757155</td>\n",
       "    </tr>\n",
       "    <tr>\n",
       "      <th>2</th>\n",
       "      <td>361.399994</td>\n",
       "      <td>360.310529</td>\n",
       "    </tr>\n",
       "    <tr>\n",
       "      <th>3</th>\n",
       "      <td>281.859985</td>\n",
       "      <td>283.776008</td>\n",
       "    </tr>\n",
       "    <tr>\n",
       "      <th>4</th>\n",
       "      <td>261.429993</td>\n",
       "      <td>260.128418</td>\n",
       "    </tr>\n",
       "    <tr>\n",
       "      <th>5</th>\n",
       "      <td>434.480011</td>\n",
       "      <td>434.759513</td>\n",
       "    </tr>\n",
       "    <tr>\n",
       "      <th>6</th>\n",
       "      <td>265.720001</td>\n",
       "      <td>260.749908</td>\n",
       "    </tr>\n",
       "    <tr>\n",
       "      <th>7</th>\n",
       "      <td>518.020020</td>\n",
       "      <td>518.668739</td>\n",
       "    </tr>\n",
       "    <tr>\n",
       "      <th>8</th>\n",
       "      <td>315.929993</td>\n",
       "      <td>315.483477</td>\n",
       "    </tr>\n",
       "    <tr>\n",
       "      <th>9</th>\n",
       "      <td>348.869995</td>\n",
       "      <td>345.484898</td>\n",
       "    </tr>\n",
       "    <tr>\n",
       "      <th>10</th>\n",
       "      <td>519.969971</td>\n",
       "      <td>520.050313</td>\n",
       "    </tr>\n",
       "    <tr>\n",
       "      <th>11</th>\n",
       "      <td>321.089996</td>\n",
       "      <td>319.576455</td>\n",
       "    </tr>\n",
       "    <tr>\n",
       "      <th>12</th>\n",
       "      <td>489.820007</td>\n",
       "      <td>492.614371</td>\n",
       "    </tr>\n",
       "    <tr>\n",
       "      <th>13</th>\n",
       "      <td>298.929993</td>\n",
       "      <td>298.455780</td>\n",
       "    </tr>\n",
       "    <tr>\n",
       "      <th>14</th>\n",
       "      <td>510.720001</td>\n",
       "      <td>509.202701</td>\n",
       "    </tr>\n",
       "    <tr>\n",
       "      <th>15</th>\n",
       "      <td>503.380005</td>\n",
       "      <td>499.143472</td>\n",
       "    </tr>\n",
       "    <tr>\n",
       "      <th>16</th>\n",
       "      <td>288.859985</td>\n",
       "      <td>290.731826</td>\n",
       "    </tr>\n",
       "    <tr>\n",
       "      <th>17</th>\n",
       "      <td>549.219971</td>\n",
       "      <td>550.554257</td>\n",
       "    </tr>\n",
       "    <tr>\n",
       "      <th>18</th>\n",
       "      <td>337.450012</td>\n",
       "      <td>338.105059</td>\n",
       "    </tr>\n",
       "    <tr>\n",
       "      <th>19</th>\n",
       "      <td>269.579987</td>\n",
       "      <td>268.887749</td>\n",
       "    </tr>\n",
       "    <tr>\n",
       "      <th>20</th>\n",
       "      <td>338.920013</td>\n",
       "      <td>338.981980</td>\n",
       "    </tr>\n",
       "    <tr>\n",
       "      <th>21</th>\n",
       "      <td>294.160004</td>\n",
       "      <td>293.367421</td>\n",
       "    </tr>\n",
       "    <tr>\n",
       "      <th>22</th>\n",
       "      <td>465.910004</td>\n",
       "      <td>461.448277</td>\n",
       "    </tr>\n",
       "    <tr>\n",
       "      <th>23</th>\n",
       "      <td>368.970001</td>\n",
       "      <td>361.959500</td>\n",
       "    </tr>\n",
       "    <tr>\n",
       "      <th>24</th>\n",
       "      <td>290.170013</td>\n",
       "      <td>288.386671</td>\n",
       "    </tr>\n",
       "  </tbody>\n",
       "</table>\n",
       "</div>"
      ],
      "text/plain": [
       "        Actual   Predicted\n",
       "0   553.729980  553.971012\n",
       "1   379.059998  379.757155\n",
       "2   361.399994  360.310529\n",
       "3   281.859985  283.776008\n",
       "4   261.429993  260.128418\n",
       "5   434.480011  434.759513\n",
       "6   265.720001  260.749908\n",
       "7   518.020020  518.668739\n",
       "8   315.929993  315.483477\n",
       "9   348.869995  345.484898\n",
       "10  519.969971  520.050313\n",
       "11  321.089996  319.576455\n",
       "12  489.820007  492.614371\n",
       "13  298.929993  298.455780\n",
       "14  510.720001  509.202701\n",
       "15  503.380005  499.143472\n",
       "16  288.859985  290.731826\n",
       "17  549.219971  550.554257\n",
       "18  337.450012  338.105059\n",
       "19  269.579987  268.887749\n",
       "20  338.920013  338.981980\n",
       "21  294.160004  293.367421\n",
       "22  465.910004  461.448277\n",
       "23  368.970001  361.959500\n",
       "24  290.170013  288.386671"
      ]
     },
     "execution_count": 18,
     "metadata": {},
     "output_type": "execute_result"
    }
   ],
   "source": [
    "dframe.head(25)"
   ]
  },
  {
   "cell_type": "markdown",
   "id": "51335b18",
   "metadata": {},
   "source": [
    "## Error Evaluation Metrics"
   ]
  },
  {
   "cell_type": "markdown",
   "id": "d460a230",
   "metadata": {},
   "source": [
    "Mean Absolute Error (MAE): is the mean of the absolute values of the errors."
   ]
  },
  {
   "cell_type": "markdown",
   "id": "ad51101c",
   "metadata": {},
   "source": [
    "Mean Squared Error (MSE) : is the mean of the squared errors."
   ]
  },
  {
   "cell_type": "markdown",
   "id": "a3453785",
   "metadata": {},
   "source": [
    "Root Mean Squared Error (RMSE) : is the square root of the mean of the squared errors."
   ]
  },
  {
   "cell_type": "code",
   "execution_count": 19,
   "id": "4a918d6c",
   "metadata": {},
   "outputs": [
    {
     "name": "stdout",
     "output_type": "stream",
     "text": [
      "Mean Absolue Error:  2.9013198795523873\n",
      "Mean Squared Error:  16.993648469949527\n",
      "Root Mean Squared Error:  4.122335317505058\n"
     ]
    }
   ],
   "source": [
    "print(\"Mean Absolue Error: \", metrics.mean_absolute_error(y_test, predictor))\n",
    "print(\"Mean Squared Error: \", metrics.mean_squared_error(y_test, predictor))\n",
    "print(\"Root Mean Squared Error: \", np.sqrt(metrics.mean_squared_error(y_test, predictor)))"
   ]
  },
  {
   "cell_type": "markdown",
   "id": "3378b39f",
   "metadata": {},
   "source": [
    "## Plot Predicted Price Vs Actual Prices"
   ]
  },
  {
   "cell_type": "code",
   "execution_count": 20,
   "id": "608c4dc6",
   "metadata": {},
   "outputs": [],
   "source": [
    "graph = dframe.head(20)"
   ]
  },
  {
   "cell_type": "code",
   "execution_count": 21,
   "id": "b96eb9f5",
   "metadata": {},
   "outputs": [
    {
     "data": {
      "text/plain": [
       "<AxesSubplot:>"
      ]
     },
     "execution_count": 21,
     "metadata": {},
     "output_type": "execute_result"
    },
    {
     "data": {
      "image/png": "[encoded data removed]",
      "text/plain": [
       "<Figure size 432x288 with 1 Axes>"
      ]
     },
     "metadata": {
      "needs_background": "light"
     },
     "output_type": "display_data"
    }
   ],
   "source": [
    "graph.plot(kind='bar')"
   ]
  }
 ],
 "metadata": {
  "kernelspec": {
   "display_name": "Python 3 (ipykernel)",
   "language": "python",
   "name": "python3"
  },
  "language_info": {
   "codemirror_mode": {
    "name": "ipython",
    "version": 3
   },
   "file_extension": ".py",
   "mimetype": "text/x-python",
   "name": "python",
   "nbconvert_exporter": "python",
   "pygments_lexer": "ipython3",
   "version": "3.9.7"
  },
  "widgets": {
   "application/vnd.jupyter.widget-state+json": {
    "state": {},
    "version_major": 2,
    "version_minor": 0
   }
  }
 },
 "nbformat": 4,
 "nbformat_minor": 5
}
